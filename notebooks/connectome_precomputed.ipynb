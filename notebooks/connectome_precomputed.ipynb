{
 "cells": [
  {
   "cell_type": "markdown",
   "metadata": {},
   "source": [
    "# Precomputed Connectome LNM\n",
    "## By William Drew"
   ]
  },
  {
   "cell_type": "code",
   "execution_count": 1,
   "metadata": {},
   "outputs": [],
   "source": [
    "import os, shutil, json, time\n",
    "import numpy as np\n",
    "from tqdm import tqdm, trange\n",
    "from nilearn import image\n",
    "from pfctoolkit import tools\n",
    "from pfctoolkit import datasets\n",
    "from pfctoolkit import config"
   ]
  },
  {
   "cell_type": "markdown",
   "metadata": {},
   "source": [
    "## Load Precomputed Connectome JSON\n"
   ]
  },
  {
   "cell_type": "code",
   "execution_count": 2,
   "metadata": {},
   "outputs": [
    {
     "name": "stdout",
     "output_type": "stream",
     "text": [
      "Config discovery-yeo1000_dil loaded\n"
     ]
    }
   ],
   "source": [
    "pcc_config = config.Config(\"discovery-yeo1000_dil\")\n",
    "brain_mask = datasets.get_img(pcc_config.get(\"mask\"))\n"
   ]
  },
  {
   "cell_type": "markdown",
   "metadata": {},
   "source": [
    "## Load ROI List"
   ]
  },
  {
   "cell_type": "code",
   "execution_count": 3,
   "metadata": {},
   "outputs": [
    {
     "name": "stdout",
     "output_type": "stream",
     "text": [
      "Found 5 ROIs...\n"
     ]
    }
   ],
   "source": [
    "roi_path = \"projects/nimlab/datasets/test_lesions/2mm/\"\n",
    "roi_paths = tools.load_roi(roi_path)"
   ]
  },
  {
   "cell_type": "markdown",
   "metadata": {},
   "source": [
    "## Get Chunks"
   ]
  },
  {
   "cell_type": "code",
   "execution_count": 5,
   "metadata": {},
   "outputs": [],
   "source": [
    "chunks = tools.get_chunks(roi_paths, pcc_config)"
   ]
  },
  {
   "cell_type": "code",
   "execution_count": null,
   "metadata": {},
   "outputs": [],
   "source": []
  }
 ],
 "metadata": {
  "interpreter": {
   "hash": "2ee483a153768d5cb9c5d2b8098f4983f58853c83103643b808bc78646b68735"
  },
  "kernelspec": {
   "display_name": "Python 3.8.5 64-bit ('nimlab-dev': conda)",
   "language": "python",
   "name": "python3"
  },
  "language_info": {
   "codemirror_mode": {
    "name": "ipython",
    "version": 3
   },
   "file_extension": ".py",
   "mimetype": "text/x-python",
   "name": "python",
   "nbconvert_exporter": "python",
   "pygments_lexer": "ipython3",
   "version": "3.9.9"
  },
  "orig_nbformat": 4
 },
 "nbformat": 4,
 "nbformat_minor": 2
}
