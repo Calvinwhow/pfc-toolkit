{
 "cells": [
  {
   "cell_type": "code",
   "execution_count": null,
   "metadata": {},
   "outputs": [],
   "source": [
    "from pfctoolkit import datasets, chunker\n",
    "\n",
    "mask = datasets.get_img(\"MNI152_T1_2mm_brain_mask_dil\")\n",
    "out_dir = \"projects/pfc-toolkit/testing/\"\n",
    "chunker.generate_chunk_mask(mask = mask,\n",
    "                            num_chunks = 91,\n",
    "                            chunk_size = 3209,\n",
    "                            out_dir = out_dir,\n",
    "                            radius = 10)"
   ]
  },
  {
   "cell_type": "code",
   "execution_count": null,
   "metadata": {},
   "outputs": [],
   "source": []
  }
 ],
 "metadata": {
  "interpreter": {
   "hash": "2ee483a153768d5cb9c5d2b8098f4983f58853c83103643b808bc78646b68735"
  },
  "kernelspec": {
   "display_name": "Python 3.9.9 64-bit ('nimlab-dev': conda)",
   "language": "python",
   "name": "python3"
  },
  "language_info": {
   "codemirror_mode": {
    "name": "ipython",
    "version": 3
   },
   "file_extension": ".py",
   "mimetype": "text/x-python",
   "name": "python",
   "nbconvert_exporter": "python",
   "pygments_lexer": "ipython3",
   "version": "3.9.9"
  },
  "orig_nbformat": 4
 },
 "nbformat": 4,
 "nbformat_minor": 2
}
